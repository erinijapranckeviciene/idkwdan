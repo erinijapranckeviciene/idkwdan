{
  "cells": [
    {
      "cell_type": "markdown",
      "id": "aa899516-4933-4c85-847a-3b3158b3d6a1",
      "metadata": {
        "id": "aa899516-4933-4c85-847a-3b3158b3d6a1"
      },
      "source": [
        "# Association rules mining to find frequent keyword sets in clusters"
      ]
    },
    {
      "cell_type": "markdown",
      "id": "5fe02b8a-a958-43d3-bade-359773fc2f97",
      "metadata": {
        "id": "5fe02b8a-a958-43d3-bade-359773fc2f97"
      },
      "source": [
        "### Import libraries"
      ]
    },
    {
      "cell_type": "code",
      "execution_count": 1,
      "id": "4ab87cdf-5f6a-4ee1-b696-a1e124f5fcac",
      "metadata": {
        "id": "4ab87cdf-5f6a-4ee1-b696-a1e124f5fcac"
      },
      "outputs": [],
      "source": [
        "import pandas as pd\n",
        "from mlxtend.preprocessing import TransactionEncoder\n",
        "from mlxtend.frequent_patterns import apriori, fpmax, fpgrowth\n",
        "\n",
        "import glob"
      ]
    },
    {
      "cell_type": "markdown",
      "id": "8e7efbdb-e700-4974-99d0-972b2244ccdb",
      "metadata": {
        "id": "8e7efbdb-e700-4974-99d0-972b2244ccdb"
      },
      "source": [
        "### Make keyword dataset for each cluster\n",
        "Each data set is list of lists. Keywords of one article is a list."
      ]
    },
    {
      "cell_type": "markdown",
      "id": "31de6997-cc46-4569-9b54-17e2ebb241ff",
      "metadata": {
        "id": "31de6997-cc46-4569-9b54-17e2ebb241ff"
      },
      "source": [
        "#### Paths to files for each cluster"
      ]
    },
    {
      "cell_type": "code",
      "execution_count": null,
      "id": "597a7185-222b-4a9b-8efe-e18a59c9cb76",
      "metadata": {
        "id": "597a7185-222b-4a9b-8efe-e18a59c9cb76"
      },
      "outputs": [],
      "source": [
        "dname='/home/erin/Desktop/SUIC/frequent_itemsets/'\n",
        "clust_dirs=glob.glob(dname+\"regions/*\")\n",
        "#clust_dirs_medium=glob.glob(dname+\"Medium_*/*/\")\n",
        "#clust_dirs_low=glob.glob(dname+\"Low_*/*/\")\n",
        "#clust_dirs=clust_dirs_high + clust_dirs_medium + clust_dirs_low\n",
        "print(clust_dirs)"
      ]
    },
    {
      "cell_type": "markdown",
      "id": "e2e595ef-efd0-414b-b9e0-60fdb2400bbd",
      "metadata": {
        "id": "e2e595ef-efd0-414b-b9e0-60fdb2400bbd"
      },
      "source": [
        "#### Prepare dataset for each cluster by reading keywords from each country\n",
        "Create lists of keywords for each cluster"
      ]
    },
    {
      "cell_type": "code",
      "execution_count": null,
      "id": "5e1acd32-df7f-41dc-a060-4cc041a4f19e",
      "metadata": {
        "id": "5e1acd32-df7f-41dc-a060-4cc041a4f19e"
      },
      "outputs": [],
      "source": [
        "datasets={}\n",
        "for ddir in clust_dirs:\n",
        "    #print(ddir)\n",
        "    clust_name=ddir.split('/')[-1]\n",
        "    #print(clust_name)\n",
        "    clust_keywords=[]\n",
        "    country_keyword_files=glob.glob(ddir+\"/*/*.txt\")\n",
        "    #print(country_keyword_files)\n",
        "    for country_keyword_file in country_keyword_files:\n",
        "        with open(country_keyword_file,\"r\") as f:\n",
        "            lines=f.readlines()\n",
        "\n",
        "        for line in lines:\n",
        "            keywords=line.rstrip().split(' ')\n",
        "            clust_keywords.append(keywords)\n",
        "\n",
        "    datasets[clust_name]=clust_keywords"
      ]
    },
    {
      "cell_type": "code",
      "execution_count": null,
      "id": "d49d7bc5-0e37-4ff0-bd65-e7adeedcf72a",
      "metadata": {
        "id": "d49d7bc5-0e37-4ff0-bd65-e7adeedcf72a"
      },
      "outputs": [],
      "source": [
        "print(datasets)"
      ]
    },
    {
      "cell_type": "markdown",
      "id": "338dec6e-ff52-4a40-a8e0-f404917dfa21",
      "metadata": {
        "id": "338dec6e-ff52-4a40-a8e0-f404917dfa21"
      },
      "source": [
        "#### Compute frequent itemsets"
      ]
    },
    {
      "cell_type": "code",
      "execution_count": null,
      "id": "b0ddad4e-d34d-4dba-90d6-73b05ddfb68e",
      "metadata": {
        "id": "b0ddad4e-d34d-4dba-90d6-73b05ddfb68e"
      },
      "outputs": [],
      "source": [
        "clust_names=datasets.keys()\n",
        "print(clust_names)"
      ]
    },
    {
      "cell_type": "code",
      "execution_count": null,
      "id": "e66a301c-9f13-4d30-abc3-4a41cd53b1e1",
      "metadata": {
        "id": "e66a301c-9f13-4d30-abc3-4a41cd53b1e1"
      },
      "outputs": [],
      "source": [
        "def get_frequent_itemsets(dataset, min_support=0.5):\n",
        "    te = TransactionEncoder()\n",
        "    te_ary = te.fit(dataset).transform(dataset)\n",
        "    df = pd.DataFrame(te_ary, columns=te.columns_)\n",
        "    frequent_itemsets = fpgrowth(df, min_support=min_support, use_colnames=True)\n",
        "    return frequent_itemsets"
      ]
    },
    {
      "cell_type": "markdown",
      "id": "4711bd45-196a-4c0a-b23a-7ae27bdc073e",
      "metadata": {
        "id": "4711bd45-196a-4c0a-b23a-7ae27bdc073e"
      },
      "source": [
        "##### Print frequent itemsets for each cluster.\n",
        "###### Support is different in each cluster. Lower support gives more itemsets."
      ]
    },
    {
      "cell_type": "markdown",
      "id": "ff7ed771-3aff-44db-b884-044b1cdd407a",
      "metadata": {
        "id": "ff7ed771-3aff-44db-b884-044b1cdd407a"
      },
      "source": [
        "##### Process a cluster"
      ]
    },
    {
      "cell_type": "code",
      "execution_count": null,
      "id": "48376d41-13a9-4473-ada9-0eafd80a03b6",
      "metadata": {
        "id": "48376d41-13a9-4473-ada9-0eafd80a03b6",
        "outputId": "059bfc74-1154-4abc-901c-e4b06438d0b8"
      },
      "outputs": [
        {
          "name": "stdout",
          "output_type": "stream",
          "text": [
            "support\n",
            "itemsets\n",
            "      support                   itemsets\n",
            "0    0.280066            (united_states)\n",
            "1    0.052338               (prevention)\n",
            "2    0.026907              (association)\n",
            "3    0.016407                   (deaths)\n",
            "4    0.011157             (availability)\n",
            "..        ...                        ...\n",
            "135  0.016079   (behavior, risk_factors)\n",
            "136  0.010008           (behavior, risk)\n",
            "137  0.010664     (behavior, prevalence)\n",
            "138  0.013126        (violence, suicide)\n",
            "139  0.010664  (united_states, violence)\n",
            "\n",
            "[140 rows x 2 columns]\n"
          ]
        }
      ],
      "source": [
        "cname='North_America'\n",
        "dataset=datasets[cname]\n",
        "itemsets=get_frequent_itemsets(dataset,min_support=0.01)\n",
        "for item in itemsets:\n",
        "    print(item)\n",
        "print(itemsets)"
      ]
    },
    {
      "cell_type": "markdown",
      "id": "d97ec1ef-3cb8-461c-8c26-05542c13c62d",
      "metadata": {
        "id": "d97ec1ef-3cb8-461c-8c26-05542c13c62d"
      },
      "source": [
        "### Create cluster itemsets"
      ]
    },
    {
      "cell_type": "code",
      "execution_count": null,
      "id": "9228795d-c0f1-44f1-bff3-d421e6c2b128",
      "metadata": {
        "id": "9228795d-c0f1-44f1-bff3-d421e6c2b128"
      },
      "outputs": [],
      "source": [
        "# list of dataframes\n",
        "dataframes=[]\n",
        "\n",
        "# create a dataframe for all clusters\n",
        "for cluster in clust_names:\n",
        "    dataset=datasets[cluster]\n",
        "    itemsets=get_frequent_itemsets(dataset,min_support=0.01)\n",
        "    itemsets['cluster']=cluster\n",
        "    dataframes.append(itemsets)\n",
        ""
      ]
    },
    {
      "cell_type": "code",
      "execution_count": null,
      "id": "48f81a08-f11f-4cd0-a17b-cf32aeab531f",
      "metadata": {
        "id": "48f81a08-f11f-4cd0-a17b-cf32aeab531f",
        "outputId": "8e481625-3b48-4e67-909c-3627f33f8c18"
      },
      "outputs": [
        {
          "data": {
            "text/html": [
              "<div>\n",
              "<style scoped>\n",
              "    .dataframe tbody tr th:only-of-type {\n",
              "        vertical-align: middle;\n",
              "    }\n",
              "\n",
              "    .dataframe tbody tr th {\n",
              "        vertical-align: top;\n",
              "    }\n",
              "\n",
              "    .dataframe thead th {\n",
              "        text-align: right;\n",
              "    }\n",
              "</style>\n",
              "<table border=\"1\" class=\"dataframe\">\n",
              "  <thead>\n",
              "    <tr style=\"text-align: right;\">\n",
              "      <th></th>\n",
              "      <th>support</th>\n",
              "      <th>itemsets</th>\n",
              "      <th>cluster</th>\n",
              "    </tr>\n",
              "  </thead>\n",
              "  <tbody>\n",
              "    <tr>\n",
              "      <th>0</th>\n",
              "      <td>0.280066</td>\n",
              "      <td>(united_states)</td>\n",
              "      <td>North_America</td>\n",
              "    </tr>\n",
              "    <tr>\n",
              "      <th>1</th>\n",
              "      <td>0.052338</td>\n",
              "      <td>(prevention)</td>\n",
              "      <td>North_America</td>\n",
              "    </tr>\n",
              "    <tr>\n",
              "      <th>2</th>\n",
              "      <td>0.026907</td>\n",
              "      <td>(association)</td>\n",
              "      <td>North_America</td>\n",
              "    </tr>\n",
              "    <tr>\n",
              "      <th>3</th>\n",
              "      <td>0.016407</td>\n",
              "      <td>(deaths)</td>\n",
              "      <td>North_America</td>\n",
              "    </tr>\n",
              "    <tr>\n",
              "      <th>4</th>\n",
              "      <td>0.011157</td>\n",
              "      <td>(availability)</td>\n",
              "      <td>North_America</td>\n",
              "    </tr>\n",
              "    <tr>\n",
              "      <th>...</th>\n",
              "      <td>...</td>\n",
              "      <td>...</td>\n",
              "      <td>...</td>\n",
              "    </tr>\n",
              "    <tr>\n",
              "      <th>132</th>\n",
              "      <td>0.021459</td>\n",
              "      <td>(suicide, mexico)</td>\n",
              "      <td>Latin_America_and_Caribbean</td>\n",
              "    </tr>\n",
              "    <tr>\n",
              "      <th>133</th>\n",
              "      <td>0.010014</td>\n",
              "      <td>(depression, mexico)</td>\n",
              "      <td>Latin_America_and_Caribbean</td>\n",
              "    </tr>\n",
              "    <tr>\n",
              "      <th>134</th>\n",
              "      <td>0.011445</td>\n",
              "      <td>(mexico, mortality)</td>\n",
              "      <td>Latin_America_and_Caribbean</td>\n",
              "    </tr>\n",
              "    <tr>\n",
              "      <th>135</th>\n",
              "      <td>0.012160</td>\n",
              "      <td>(homicide, suicide)</td>\n",
              "      <td>Latin_America_and_Caribbean</td>\n",
              "    </tr>\n",
              "    <tr>\n",
              "      <th>136</th>\n",
              "      <td>0.015021</td>\n",
              "      <td>(brazil, suicide)</td>\n",
              "      <td>Latin_America_and_Caribbean</td>\n",
              "    </tr>\n",
              "  </tbody>\n",
              "</table>\n",
              "<p>1021 rows × 3 columns</p>\n",
              "</div>"
            ],
            "text/plain": [
              "      support              itemsets                      cluster\n",
              "0    0.280066       (united_states)                North_America\n",
              "1    0.052338          (prevention)                North_America\n",
              "2    0.026907         (association)                North_America\n",
              "3    0.016407              (deaths)                North_America\n",
              "4    0.011157        (availability)                North_America\n",
              "..        ...                   ...                          ...\n",
              "132  0.021459     (suicide, mexico)  Latin_America_and_Caribbean\n",
              "133  0.010014  (depression, mexico)  Latin_America_and_Caribbean\n",
              "134  0.011445   (mexico, mortality)  Latin_America_and_Caribbean\n",
              "135  0.012160   (homicide, suicide)  Latin_America_and_Caribbean\n",
              "136  0.015021     (brazil, suicide)  Latin_America_and_Caribbean\n",
              "\n",
              "[1021 rows x 3 columns]"
            ]
          },
          "execution_count": 34,
          "metadata": {},
          "output_type": "execute_result"
        }
      ],
      "source": [
        "df=pd.concat(dataframes)\n",
        "df"
      ]
    },
    {
      "cell_type": "code",
      "execution_count": null,
      "id": "e5339225-b77a-4455-837d-e5500dedce12",
      "metadata": {
        "id": "e5339225-b77a-4455-837d-e5500dedce12"
      },
      "outputs": [],
      "source": [
        "#save this dataframe and node table to visualize as network\n",
        "df.to_csv(\"clusters_itemsets_net.csv\",index=False)\n",
        "#df_node.to_csv(\"clusters_itemsets_nodes.csv\",index=False)"
      ]
    },
    {
      "cell_type": "code",
      "execution_count": null,
      "id": "7d164899-1ba9-410f-889c-0a07212bca9d",
      "metadata": {
        "id": "7d164899-1ba9-410f-889c-0a07212bca9d"
      },
      "outputs": [],
      "source": [
        "def convertTuple(tup):\n",
        "    return ' | '.join([str(x) for x in tup])\n",
        "\n",
        "itemstrings=[]\n",
        "for item in df['itemsets']:\n",
        "    itemstr=convertTuple(item)\n",
        "    #print(itemstr)\n",
        "    itemstrings.append(itemstr)"
      ]
    },
    {
      "cell_type": "code",
      "execution_count": null,
      "id": "23b17943-f2ee-48e0-8161-789584029157",
      "metadata": {
        "id": "23b17943-f2ee-48e0-8161-789584029157"
      },
      "outputs": [],
      "source": [
        "df['items']=itemstrings\n",
        "df.drop(columns='itemsets', inplace=True)\n",
        "df"
      ]
    },
    {
      "cell_type": "code",
      "execution_count": null,
      "id": "bd1c154e-3758-4fac-9b6d-2b89bc20fda9",
      "metadata": {
        "scrolled": true,
        "id": "bd1c154e-3758-4fac-9b6d-2b89bc20fda9"
      },
      "outputs": [],
      "source": [
        "node_items=pd.DataFrame({'node': pd.unique(df['items']) })\n",
        "node_items['property']='keyword'\n",
        "\n",
        "cluster_items=pd.DataFrame({'node':pd.unique(df['cluster']) })\n",
        "cluster_items['property']='cluster'\n",
        "\n",
        "df_node=pd.concat([cluster_items, node_items])\n",
        "print(df_node)"
      ]
    }
  ],
  "metadata": {
    "kernelspec": {
      "display_name": "Python 3 (ipykernel)",
      "language": "python",
      "name": "python3"
    },
    "language_info": {
      "codemirror_mode": {
        "name": "ipython",
        "version": 3
      },
      "file_extension": ".py",
      "mimetype": "text/x-python",
      "name": "python",
      "nbconvert_exporter": "python",
      "pygments_lexer": "ipython3",
      "version": "3.11.3"
    },
    "colab": {
      "provenance": []
    }
  },
  "nbformat": 4,
  "nbformat_minor": 5
}